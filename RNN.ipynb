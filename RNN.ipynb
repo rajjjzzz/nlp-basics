{
 "cells": [
  {
   "cell_type": "code",
   "execution_count": null,
   "id": "da010fa0",
   "metadata": {},
   "outputs": [
    {
     "name": "stderr",
     "output_type": "stream",
     "text": [
      "[nltk_data] Downloading package punkt to\n",
      "[nltk_data]     C:\\Users\\rajas\\AppData\\Roaming\\nltk_data...\n",
      "[nltk_data]   Package punkt is already up-to-date!\n",
      "[nltk_data] Downloading package punkt_tab to\n",
      "[nltk_data]     C:\\Users\\rajas\\AppData\\Roaming\\nltk_data...\n",
      "[nltk_data]   Package punkt_tab is already up-to-date!\n",
      "[nltk_data] Downloading package stopwords to\n",
      "[nltk_data]     C:\\Users\\rajas\\AppData\\Roaming\\nltk_data...\n",
      "[nltk_data]   Package stopwords is already up-to-date!\n"
     ]
    }
   ],
   "source": [
    "import torch\n",
    "import torch.nn as nn\n",
    "import torch.optim as optim\n",
    "import matplotlib.pyplot as plt\n",
    "from nltk.tokenize import word_tokenize\n",
    "from nltk.corpus import stopwords\n",
    "from nltk.stem import PorterStemmer\n",
    "import nltk\n",
    "\n",
    "nltk.download(\"punkt\")\n",
    "nltk.download(\"punkt_tab\")\n",
    "nltk.download(\"stopwords\")\n",
    "\n",
    "data = [\n",
    "(\"I love this movie, it's terrible!\", 0\n",
    "9),\n",
    "(\"Horrible experience, I hated it.\", 0),\n",
    "(\"Absolutely wonderful acting!\", 1),\n",
    "(\"Worst movie ever\", 0),]"
   ]
  },
  {
   "cell_type": "code",
   "execution_count": 23,
   "id": "e2685bc2",
   "metadata": {},
   "outputs": [
    {
     "name": "stdout",
     "output_type": "stream",
     "text": [
      "Sample vocabulary: {'absolut': 1, 'act': 2, 'ever': 3, 'experi': 4, 'hate': 5, 'horribl': 6, 'love': 7, 'movi': 8, 'terribl': 9, 'wonder': 10, 'worst': 11}\n"
     ]
    }
   ],
   "source": [
    "# Preprocessing\n",
    "ps = PorterStemmer ()\n",
    "stop_words = set (stopwords.words('english' ))\n",
    "\n",
    "def preprocess(text):\n",
    "    tokens = word_tokenize(text. lower())\n",
    "    tokens = [ps.stem(word) for word in tokens if word. isalnum() and word not in stop_words]\n",
    "    return tokens\n",
    "# Tokenize all texts\n",
    "tokenized_data = [(preprocess(text), label) for text, label in data]\n",
    "vocab = sorted(set(word for sentence,_ in tokenized_data for word in sentence))\n",
    "word2idx = {word: i+1 for i, word in enumerate(vocab)} # Reserve 0 for padding\n",
    "idx2word = {i: word for word, i in word2idx.items()}\n",
    "vocab_size = len(word2idx) + 1\n",
    "print (\"Sample vocabulary:\", word2idx)"
   ]
  },
  {
   "cell_type": "code",
   "execution_count": 24,
   "id": "af5ada4e",
   "metadata": {},
   "outputs": [
    {
     "name": "stdout",
     "output_type": "stream",
     "text": [
      "Padded input shape: torch.Size([4, 3])\n"
     ]
    }
   ],
   "source": [
    "from torch.nn.utils.rnn import pad_sequence\n",
    "\n",
    "def encode_sentence(sentence):\n",
    "  return torch.tensor([word2idx[word] for word in sentence], dtype=torch.long)\n",
    "\n",
    "# Encode and pad\n",
    "encoded_sentences = [encode_sentence(s) for s, _ in tokenized_data]\n",
    "labels = torch.tensor([label for _, label in tokenized_data])\n",
    "\n",
    "padded_sentences = pad_sequence(encoded_sentences, batch_first=True)\n",
    "print(\"Padded input shape:\", padded_sentences.shape)"
   ]
  },
  {
   "cell_type": "code",
   "execution_count": 25,
   "id": "adaa011d",
   "metadata": {},
   "outputs": [],
   "source": [
    "class RNNClassifier(nn.Module):\n",
    "  def __init__(self, vocab_size, embed_dim, hidden_dim):\n",
    "    super().__init__()\n",
    "    self.embed = nn.Embedding(vocab_size, embed_dim)\n",
    "    self.rnn = nn.RNN(embed_dim, hidden_dim, batch_first=True)\n",
    "    self.fc = nn.Linear(hidden_dim, 2)\n",
    "\n",
    "  def forward(self,x):\n",
    "    embedded = self.embed(x)\n",
    "    output, hidden = self.rnn(embedded)\n",
    "    return self.fc(hidden.squeeze(0))"
   ]
  },
  {
   "cell_type": "code",
   "execution_count": 26,
   "id": "d85c4ff2",
   "metadata": {},
   "outputs": [
    {
     "name": "stdout",
     "output_type": "stream",
     "text": [
      "Epoch 1: Loss = 0.8223\n",
      "Epoch 2: Loss = 0.5359\n",
      "Epoch 3: Loss = 0.3382\n",
      "Epoch 4: Loss = 0.2008\n",
      "Epoch 5: Loss = 0.1121\n",
      "Epoch 6: Loss = 0.0604\n",
      "Epoch 7: Loss = 0.0327\n",
      "Epoch 8: Loss = 0.0182\n",
      "Epoch 9: Loss = 0.0107\n",
      "Epoch 10: Loss = 0.0066\n",
      "Epoch 11: Loss = 0.0043\n",
      "Epoch 12: Loss = 0.0029\n",
      "Epoch 13: Loss = 0.0021\n",
      "Epoch 14: Loss = 0.0015\n",
      "Epoch 15: Loss = 0.0012\n",
      "Epoch 16: Loss = 0.0009\n",
      "Epoch 17: Loss = 0.0007\n",
      "Epoch 18: Loss = 0.0006\n",
      "Epoch 19: Loss = 0.0005\n",
      "Epoch 20: Loss = 0.0004\n"
     ]
    },
    {
     "data": {
      "image/png": "[encoded data removed]",
      "text/plain": [
       "<Figure size 640x480 with 1 Axes>"
      ]
     },
     "metadata": {},
     "output_type": "display_data"
    }
   ],
   "source": [
    "def train_model (model, X, y, epochs=20):\n",
    "  optimizer = optim. Adam(model.parameters(), lr=0.01)\n",
    "  loss_fn = nn.CrossEntropyLoss()\n",
    "  losses = []\n",
    "\n",
    "  for epoch in range(epochs) :\n",
    "    model. train()\n",
    "    optimizer.zero_grad()\n",
    "    output = model (X)\n",
    "    loss = loss_fn(output, y)\n",
    "    loss.backward()\n",
    "    optimizer. step()\n",
    "    losses.append(loss. item ( ))\n",
    "    print(f\"Epoch {epoch+1}: Loss = {loss.item():.4f}\")\n",
    "  \n",
    "  # Plot loss\n",
    "  plt.plot(losses)\n",
    "  plt.title(\"RNN Training Loss\")\n",
    "  plt.xlabel(\"Epoch\")\n",
    "  plt.ylabel(\"Loss\")\n",
    "  plt.show()\n",
    "  return model\n",
    "\n",
    "rnn_model = RNNClassifier(vocab_size, embed_dim=16, hidden_dim=32)\n",
    "trained_rnn = train_model(rnn_model, padded_sentences, labels)"
   ]
  },
  {
   "cell_type": "code",
   "execution_count": 27,
   "id": "dd8b5000",
   "metadata": {},
   "outputs": [
    {
     "name": "stdout",
     "output_type": "stream",
     "text": [
      "Positive\n",
      "Negative\n"
     ]
    }
   ],
   "source": [
    "def predict(model, sentence):\n",
    "  model.eval()\n",
    "  tokens = preprocess(sentence)\n",
    "  input_tensor = encode_sentence(tokens).unsqueeze(0)\n",
    "  with torch.no_grad():\n",
    "    output = model(input_tensor)\n",
    "    pred = torch.argmax(output, dim=1).item()\n",
    "  return \"Positive\" if pred == 1 else \"Negative\"\n",
    "\n",
    "print(predict(trained_rnn, \"What a wonderful movie\"))\n",
    "print(predict(trained_rnn, \"This was terrible\"))"
   ]
  }
 ],
 "metadata": {
  "kernelspec": {
   "display_name": ".venv",
   "language": "python",
   "name": "python3"
  },
  "language_info": {
   "codemirror_mode": {
    "name": "ipython",
    "version": 3
   },
   "file_extension": ".py",
   "mimetype": "text/x-python",
   "name": "python",
   "nbconvert_exporter": "python",
   "pygments_lexer": "ipython3",
   "version": "3.12.2"
  }
 },
 "nbformat": 4,
 "nbformat_minor": 5
}
