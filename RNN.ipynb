{
 "cells": [
  {
   "cell_type": "code",
   "execution_count": 50,
   "id": "da010fa0",
   "metadata": {},
   "outputs": [
    {
     "name": "stderr",
     "output_type": "stream",
     "text": [
      "[nltk_data] Downloading package punkt to\n",
      "[nltk_data]     C:\\Users\\rajas\\AppData\\Roaming\\nltk_data...\n",
      "[nltk_data]   Package punkt is already up-to-date!\n",
      "[nltk_data] Downloading package punkt_tab to\n",
      "[nltk_data]     C:\\Users\\rajas\\AppData\\Roaming\\nltk_data...\n",
      "[nltk_data]   Package punkt_tab is already up-to-date!\n",
      "[nltk_data] Downloading package stopwords to\n",
      "[nltk_data]     C:\\Users\\rajas\\AppData\\Roaming\\nltk_data...\n",
      "[nltk_data]   Package stopwords is already up-to-date!\n"
     ]
    }
   ],
   "source": [
    "import torch\n",
    "import torch.nn as nn\n",
    "import torch.optim as optim\n",
    "import matplotlib.pyplot as plt\n",
    "from nltk.tokenize import word_tokenize\n",
    "from nltk.corpus import stopwords\n",
    "from nltk.stem import PorterStemmer\n",
    "import nltk\n",
    "\n",
    "nltk.download(\"punkt\")\n",
    "nltk.download(\"punkt_tab\")\n",
    "nltk.download(\"stopwords\")\n",
    "\n",
    "data = [\n",
    "(\"I love this movie, it's fantastic!\", 1),\n",
    "(\"Horrible experience, it was terrible.\", 0),\n",
    "(\"Absolutely wonderful acting!\", 1),\n",
    "(\"Worst movie ever\", 0),\n",
    "(\"An amazing film. Would definitely watch again.\", 1),\n",
    "(\"Worst movie ever made.\", 0),\n",
    "(\"I thoroughly enjoyed it from start to finish.\", 1),\n",
    "(\"The acting was bad and the story made no sense.\", 0),\n",
    "(\"This is one of my favorite movies!\", 1),\n",
    "(\"I regret watching this movie. Waste of time.\", 0),\n",
    "(\"Excellent performances and a gripping plot!\", 1),\n",
    "(\"Completely dull. I almost fell asleep.\", 0),\n",
    "(\"Fantastic visuals and storytelling.\", 1),\n",
    "(\"The script was awful and full of clichés.\", 0),\n",
    "(\"What an inspiring and emotional film.\", 1),\n",
    "(\"Nothing good about it. Avoid at all costs.\", 0),\n",
    "(\"A brilliant masterpiece.\", 1),\n",
    "(\"Not worth the hype.\", 0),\n",
    "(\"Pure cinematic joy!\", 1),\n",
    "(\"Horribly directed and badly acted.\", 0),\n",
    "(\"Loved every moment!\", 1),\n",
    "(\"Disappointing sequel to a great first film.\", 0),\n",
    "(\"Truly a wonderful experience.\", 1),\n",
    "(\"The jokes fell flat and the pacing was off.\", 0),]"
   ]
  },
  {
   "cell_type": "code",
   "execution_count": 51,
   "id": "e2685bc2",
   "metadata": {},
   "outputs": [
    {
     "name": "stdout",
     "output_type": "stream",
     "text": [
      "Sample vocabulary: {'absolut': 1, 'act': 2, 'almost': 3, 'amaz': 4, 'asleep': 5, 'avoid': 6, 'aw': 7, 'bad': 8, 'badli': 9, 'brilliant': 10, 'cinemat': 11, 'cliché': 12, 'complet': 13, 'cost': 14, 'definit': 15, 'direct': 16, 'disappoint': 17, 'dull': 18, 'emot': 19, 'enjoy': 20, 'ever': 21, 'everi': 22, 'excel': 23, 'experi': 24, 'fantast': 25, 'favorit': 26, 'fell': 27, 'film': 28, 'finish': 29, 'first': 30, 'flat': 31, 'full': 32, 'good': 33, 'great': 34, 'grip': 35, 'horribl': 36, 'hype': 37, 'inspir': 38, 'joke': 39, 'joy': 40, 'love': 41, 'made': 42, 'masterpiec': 43, 'moment': 44, 'movi': 45, 'noth': 46, 'one': 47, 'pace': 48, 'perform': 49, 'plot': 50, 'pure': 51, 'regret': 52, 'script': 53, 'sens': 54, 'sequel': 55, 'start': 56, 'stori': 57, 'storytel': 58, 'terribl': 59, 'thoroughli': 60, 'time': 61, 'truli': 62, 'visual': 63, 'wast': 64, 'watch': 65, 'wonder': 66, 'worst': 67, 'worth': 68, 'would': 69}\n"
     ]
    }
   ],
   "source": [
    "# Preprocessing\n",
    "ps = PorterStemmer ()\n",
    "stop_words = set (stopwords.words('english' ))\n",
    "\n",
    "def preprocess(text):\n",
    "    tokens = word_tokenize(text. lower())\n",
    "    tokens = [ps.stem(word) for word in tokens if word. isalnum() and word not in stop_words]\n",
    "    return tokens\n",
    "# Tokenize all texts\n",
    "tokenized_data = [(preprocess(text), label) for text, label in data]\n",
    "vocab = sorted(set(word for sentence,_ in tokenized_data for word in sentence))\n",
    "word2idx = {word: i+1 for i, word in enumerate(vocab)} # Reserve 0 for padding\n",
    "idx2word = {i: word for word, i in word2idx.items()}\n",
    "vocab_size = len(word2idx) + 1\n",
    "print (\"Sample vocabulary:\", word2idx)"
   ]
  },
  {
   "cell_type": "code",
   "execution_count": 52,
   "id": "af5ada4e",
   "metadata": {},
   "outputs": [
    {
     "name": "stdout",
     "output_type": "stream",
     "text": [
      "Padded input shape: torch.Size([24, 5])\n"
     ]
    }
   ],
   "source": [
    "from torch.nn.utils.rnn import pad_sequence\n",
    "\n",
    "def encode_sentence(sentence):\n",
    "  return torch.tensor([word2idx[word] for word in sentence], dtype=torch.long)\n",
    "\n",
    "# Encode and pad\n",
    "encoded_sentences = [encode_sentence(s) for s, _ in tokenized_data]\n",
    "labels = torch.tensor([label for _, label in tokenized_data])\n",
    "\n",
    "padded_sentences = pad_sequence(encoded_sentences, batch_first=True)\n",
    "print(\"Padded input shape:\", padded_sentences.shape)"
   ]
  },
  {
   "cell_type": "code",
   "execution_count": 53,
   "id": "adaa011d",
   "metadata": {},
   "outputs": [],
   "source": [
    "class RNNClassifier(nn.Module):\n",
    "  def __init__(self, vocab_size, embed_dim, hidden_dim):\n",
    "    super().__init__()\n",
    "    self.embed = nn.Embedding(vocab_size, embed_dim)\n",
    "    self.rnn = nn.RNN(embed_dim, hidden_dim, batch_first=True)\n",
    "    self.fc = nn.Linear(hidden_dim, 2)\n",
    "\n",
    "  def forward(self,x):\n",
    "    embedded = self.embed(x)\n",
    "    output, hidden = self.rnn(embedded)\n",
    "    return self.fc(hidden.squeeze(0))"
   ]
  },
  {
   "cell_type": "code",
   "execution_count": 54,
   "id": "d85c4ff2",
   "metadata": {},
   "outputs": [
    {
     "name": "stdout",
     "output_type": "stream",
     "text": [
      "Epoch 1: Loss = 0.6845\n",
      "Epoch 2: Loss = 0.5838\n",
      "Epoch 3: Loss = 0.4986\n",
      "Epoch 4: Loss = 0.4166\n",
      "Epoch 5: Loss = 0.3381\n",
      "Epoch 6: Loss = 0.2673\n",
      "Epoch 7: Loss = 0.1988\n",
      "Epoch 8: Loss = 0.1278\n",
      "Epoch 9: Loss = 0.0662\n",
      "Epoch 10: Loss = 0.0320\n",
      "Epoch 11: Loss = 0.0174\n",
      "Epoch 12: Loss = 0.0097\n",
      "Epoch 13: Loss = 0.0055\n",
      "Epoch 14: Loss = 0.0032\n",
      "Epoch 15: Loss = 0.0019\n",
      "Epoch 16: Loss = 0.0012\n",
      "Epoch 17: Loss = 0.0008\n",
      "Epoch 18: Loss = 0.0006\n",
      "Epoch 19: Loss = 0.0004\n",
      "Epoch 20: Loss = 0.0004\n"
     ]
    },
    {
     "data": {
      "image/png": "[encoded data removed]",
      "text/plain": [
       "<Figure size 640x480 with 1 Axes>"
      ]
     },
     "metadata": {},
     "output_type": "display_data"
    }
   ],
   "source": [
    "def train_model (model, X, y, epochs=20):\n",
    "  optimizer = optim. Adam(model.parameters(), lr=0.01)\n",
    "  loss_fn = nn.CrossEntropyLoss()\n",
    "  losses = []\n",
    "\n",
    "  for epoch in range(epochs) :\n",
    "    model. train()\n",
    "    optimizer.zero_grad()\n",
    "    output = model (X)\n",
    "    loss = loss_fn(output, y)\n",
    "    loss.backward()\n",
    "    optimizer. step()\n",
    "    losses.append(loss. item ( ))\n",
    "    print(f\"Epoch {epoch+1}: Loss = {loss.item():.4f}\")\n",
    "  \n",
    "  # Plot loss\n",
    "  plt.plot(losses)\n",
    "  plt.title(\"RNN Training Loss\")\n",
    "  plt.xlabel(\"Epoch\")\n",
    "  plt.ylabel(\"Loss\")\n",
    "  plt.show()\n",
    "  return model\n",
    "\n",
    "rnn_model = RNNClassifier(vocab_size, embed_dim=16, hidden_dim=32)\n",
    "trained_rnn = train_model(rnn_model, padded_sentences, labels)"
   ]
  },
  {
   "cell_type": "code",
   "execution_count": 55,
   "id": "dd8b5000",
   "metadata": {},
   "outputs": [
    {
     "name": "stdout",
     "output_type": "stream",
     "text": [
      "Positive\n",
      "Negative\n"
     ]
    }
   ],
   "source": [
    "def predict(model, sentence):\n",
    "  model.eval()\n",
    "  tokens = preprocess(sentence)\n",
    "  input_tensor = encode_sentence(tokens).unsqueeze(0)\n",
    "  with torch.no_grad():\n",
    "    output = model(input_tensor)\n",
    "    pred = torch.argmax(output, dim=1).item()\n",
    "  return \"Positive\" if pred == 1 else \"Negative\"\n",
    "\n",
    "print(predict(trained_rnn, \"What a wonderful movie\"))\n",
    "print(predict(trained_rnn, \"This was terrible\"))"
   ]
  },
  {
   "cell_type": "code",
   "execution_count": 56,
   "id": "6093130e",
   "metadata": {},
   "outputs": [],
   "source": [
    "class LSTMClassifier(nn.Module):\n",
    "  def __init__(self, vocab_size, embed_dim, hidden_dim):\n",
    "    super().__init__()\n",
    "    self.embed = nn.Embedding(vocab_size, embed_dim)\n",
    "    self.lstm = nn. LSTM(embed_dim, hidden_dim, batch_first=True)\n",
    "    self.fc = nn. Linear (hidden_dim, 2)\n",
    "  def forward (self, x):\n",
    "    embedded = self. embed(x)\n",
    "    output, (hidden, _) = self. lstm(embedded)\n",
    "    return self.fc(hidden[-1]) # last hidden state"
   ]
  },
  {
   "cell_type": "code",
   "execution_count": 57,
   "id": "41c7ba06",
   "metadata": {},
   "outputs": [
    {
     "name": "stdout",
     "output_type": "stream",
     "text": [
      "Epoch 1: Loss = 0.7057\n",
      "Epoch 2: Loss = 0.6729\n",
      "Epoch 3: Loss = 0.6486\n",
      "Epoch 4: Loss = 0.6230\n",
      "Epoch 5: Loss = 0.5911\n",
      "Epoch 6: Loss = 0.5495\n",
      "Epoch 7: Loss = 0.4959\n",
      "Epoch 8: Loss = 0.4307\n",
      "Epoch 9: Loss = 0.3574\n",
      "Epoch 10: Loss = 0.2772\n",
      "Epoch 11: Loss = 0.1942\n",
      "Epoch 12: Loss = 0.1184\n",
      "Epoch 13: Loss = 0.0601\n",
      "Epoch 14: Loss = 0.0278\n",
      "Epoch 15: Loss = 0.0156\n",
      "Epoch 16: Loss = 0.0104\n",
      "Epoch 17: Loss = 0.0070\n",
      "Epoch 18: Loss = 0.0043\n",
      "Epoch 19: Loss = 0.0024\n",
      "Epoch 20: Loss = 0.0013\n"
     ]
    },
    {
     "data": {
      "image/png": "[encoded data removed]",
      "text/plain": [
       "<Figure size 640x480 with 1 Axes>"
      ]
     },
     "metadata": {},
     "output_type": "display_data"
    },
    {
     "name": "stdout",
     "output_type": "stream",
     "text": [
      "Positive\n",
      "Negative\n"
     ]
    }
   ],
   "source": [
    "lstm_model = LSTMClassifier(vocab_size, embed_dim=16, hidden_dim=32)\n",
    "trained_lstm = train_model(lstm_model, padded_sentences, labels)\n",
    "print(predict(trained_lstm, \"I love this movie\"))\n",
    "print(predict(trained_lstm, \"This was the worst movie\"))"
   ]
  }
 ],
 "metadata": {
  "kernelspec": {
   "display_name": ".venv",
   "language": "python",
   "name": "python3"
  },
  "language_info": {
   "codemirror_mode": {
    "name": "ipython",
    "version": 3
   },
   "file_extension": ".py",
   "mimetype": "text/x-python",
   "name": "python",
   "nbconvert_exporter": "python",
   "pygments_lexer": "ipython3",
   "version": "3.12.2"
  }
 },
 "nbformat": 4,
 "nbformat_minor": 5
}
