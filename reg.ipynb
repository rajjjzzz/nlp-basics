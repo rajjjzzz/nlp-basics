{
 "cells": [
  {
   "cell_type": "code",
   "execution_count": 1,
   "id": "a8416268",
   "metadata": {},
   "outputs": [
    {
     "name": "stdout",
     "output_type": "stream",
     "text": [
      "Original text This is a sample text with 123 numbers and other special character like #*\n"
     ]
    }
   ],
   "source": [
    "import string\n",
    "import re\n",
    "def to_lowercase(text):\n",
    "  return text.lower()\n",
    "def remove_punctuation(text):\n",
    "    translator=str.maketrans('','',string.punctuation)\n",
    "    return text.translate(translator)\n",
    "def remove_numbers(text):\n",
    "    return re.sub(r'\\d+','',text)\n",
    "def remove_special_characters(text):\n",
    "    pattern=r'[^a-zA-z0-9\\s]'\n",
    "    return re.sub(pattern,'',text)\n",
    "text='This is a sample text with 123 numbers and other special character like #*'\n",
    "print(f'Original text {text}')"
   ]
  },
  {
   "cell_type": "markdown",
   "id": "72ff5d1c",
   "metadata": {},
   "source": [
    "To lowercase a text"
   ]
  },
  {
   "cell_type": "code",
   "execution_count": 2,
   "id": "b7400caf",
   "metadata": {},
   "outputs": [
    {
     "data": {
      "text/plain": [
       "'this is a sample text with 123 numbers and other special character like #*'"
      ]
     },
     "execution_count": 2,
     "metadata": {},
     "output_type": "execute_result"
    }
   ],
   "source": [
    "to_lowercase(text)"
   ]
  },
  {
   "cell_type": "markdown",
   "id": "5ea7b4de",
   "metadata": {},
   "source": [
    "To remove punctuations from a text"
   ]
  },
  {
   "cell_type": "code",
   "execution_count": 3,
   "id": "75e6a00b",
   "metadata": {},
   "outputs": [
    {
     "data": {
      "text/plain": [
       "'This is a sample text with 123 numbers and other special character like '"
      ]
     },
     "execution_count": 3,
     "metadata": {},
     "output_type": "execute_result"
    }
   ],
   "source": [
    "remove_punctuation(text)"
   ]
  },
  {
   "cell_type": "markdown",
   "id": "475bbf23",
   "metadata": {},
   "source": [
    "To remove any numbers from a text"
   ]
  },
  {
   "cell_type": "code",
   "execution_count": 4,
   "id": "25a2e245",
   "metadata": {},
   "outputs": [
    {
     "data": {
      "text/plain": [
       "'This is a sample text with  numbers and other special character like #*'"
      ]
     },
     "execution_count": 4,
     "metadata": {},
     "output_type": "execute_result"
    }
   ],
   "source": [
    "remove_numbers(text)"
   ]
  },
  {
   "cell_type": "markdown",
   "id": "cbb51609",
   "metadata": {},
   "source": [
    "To remove any sepcial characters from a text"
   ]
  },
  {
   "cell_type": "code",
   "execution_count": 5,
   "id": "11013470",
   "metadata": {},
   "outputs": [
    {
     "data": {
      "text/plain": [
       "'This is a sample text with 123 numbers and other special character like '"
      ]
     },
     "execution_count": 5,
     "metadata": {},
     "output_type": "execute_result"
    }
   ],
   "source": [
    "remove_special_characters(text)"
   ]
  },
  {
   "cell_type": "markdown",
   "id": "1781dbaf",
   "metadata": {},
   "source": [
    "To find prefix and suffix such as \"un\" and \"ing\" from a text"
   ]
  },
  {
   "cell_type": "code",
   "execution_count": 6,
   "id": "be79628c",
   "metadata": {},
   "outputs": [
    {
     "name": "stdout",
     "output_type": "stream",
     "text": [
      "['Unwell', 'undo']\n",
      "['doing', 'cooking']\n"
     ]
    }
   ],
   "source": [
    "pref=\"un\"\n",
    "suf=\"ing\"\n",
    "text=\"@i #am Unwell undo doing cooking.\"\n",
    "\n",
    "pat= pref + r\"\\w*\"\n",
    "c=re.findall(pat,text,re.IGNORECASE)\n",
    "print(c)\n",
    "suff=r\"\\w+\"  + suf \n",
    "d=re.findall(suff,text)\n",
    "print(d)"
   ]
  },
  {
   "cell_type": "markdown",
   "id": "4b385a26",
   "metadata": {},
   "source": [
    "To extract hashtags and mentions"
   ]
  },
  {
   "cell_type": "code",
   "execution_count": 7,
   "id": "c032d196",
   "metadata": {},
   "outputs": [
    {
     "name": "stdout",
     "output_type": "stream",
     "text": [
      "['@i', '#am']\n"
     ]
    }
   ],
   "source": [
    "pat1=r\"[#@]\\w+\"\n",
    "print(re.findall(pat1,text))"
   ]
  },
  {
   "cell_type": "markdown",
   "id": "46782d4d",
   "metadata": {},
   "source": [
    "To extract dates in DD-MM-YYYY format from a text"
   ]
  },
  {
   "cell_type": "code",
   "execution_count": 8,
   "id": "a9e1daeb",
   "metadata": {},
   "outputs": [
    {
     "name": "stdout",
     "output_type": "stream",
     "text": [
      "['12-09-2167']\n"
     ]
    }
   ],
   "source": [
    "dy=\"12-09-2167\"\n",
    "pat=r\"\\d{2}-\\d{2}-\\d{4}\" \n",
    "print(re.findall(pat,dy))"
   ]
  },
  {
   "cell_type": "markdown",
   "id": "e8af8a00",
   "metadata": {},
   "source": [
    "To remove whitespaces from a text"
   ]
  },
  {
   "cell_type": "code",
   "execution_count": 9,
   "id": "9a1f2481",
   "metadata": {},
   "outputs": [
    {
     "name": "stdout",
     "output_type": "stream",
     "text": [
      "i am a student\n"
     ]
    }
   ],
   "source": [
    "text=\"i am   a student    \"\n",
    "pat=r\"\\s+\"\n",
    "print(re.sub(pat,\" \",text).strip())"
   ]
  }
 ],
 "metadata": {
  "kernelspec": {
   "display_name": ".venv",
   "language": "python",
   "name": "python3"
  },
  "language_info": {
   "codemirror_mode": {
    "name": "ipython",
    "version": 3
   },
   "file_extension": ".py",
   "mimetype": "text/x-python",
   "name": "python",
   "nbconvert_exporter": "python",
   "pygments_lexer": "ipython3",
   "version": "3.12.2"
  }
 },
 "nbformat": 4,
 "nbformat_minor": 5
}
